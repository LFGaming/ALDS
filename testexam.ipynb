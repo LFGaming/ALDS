{
 "cells": [
  {
   "cell_type": "markdown",
   "metadata": {},
   "source": [
    "### Open Question 1.1 </br>\n",
    "The time complexity is O(2^n) because every recursion the function is called twice, therefore it is 2^n.\n",
    "\n",
    "### Open Question 1.2 </br>\n",
    "?\n",
    "\n",
    "### Open Question 1.3 </br>\n",
    "The time complexity is O(n) because every array index is calculated only once.\n",
    "\n",
    "### open Question 2"
   ]
  },
  {
   "cell_type": "code",
   "execution_count": 1,
   "metadata": {},
   "outputs": [
    {
     "ename": "SyntaxError",
     "evalue": "incomplete input (541002128.py, line 8)",
     "output_type": "error",
     "traceback": [
      "\u001b[1;36m  Cell \u001b[1;32mIn[1], line 8\u001b[1;36m\u001b[0m\n\u001b[1;33m    \u001b[0m\n\u001b[1;37m    ^\u001b[0m\n\u001b[1;31mSyntaxError\u001b[0m\u001b[1;31m:\u001b[0m incomplete input\n"
     ]
    }
   ],
   "source": [
    "class TreeNode:\n",
    "    def __init__(self, data, left, right):\n",
    "        self.data = data\n",
    "        self.left = left\n",
    "        self.right = right\n",
    "\n",
    "    def count_LR(self):\n",
    "        if self.left != None:\n",
    "            leftcount += 1\n",
    "        if self.right != None:\n",
    "            rightcount += 1\n",
    "        else:\n",
    "            return leftcount, rightcount\n"
   ]
  },
  {
   "cell_type": "markdown",
   "metadata": {},
   "source": [
    "### Multiple choice\n",
    "#### Time Complexity\n",
    "D\n",
    "#### Data Structures\n",
    "C\n",
    "#### Stack\n",
    "C\n",
    "#### Palindrome\n",
    "D\n",
    "#### Sorting Algorithms\n",
    "1 3\n",
    "#### Graphs\n",
    "?\n",
    "#### Order, Order!\n",
    "E\n",
    "#### BSTs\n",
    "2,3\n",
    "#### Local Search\n",
    "3"
   ]
  }
 ],
 "metadata": {
  "kernelspec": {
   "display_name": "Python 3",
   "language": "python",
   "name": "python3"
  },
  "language_info": {
   "codemirror_mode": {
    "name": "ipython",
    "version": 3
   },
   "file_extension": ".py",
   "mimetype": "text/x-python",
   "name": "python",
   "nbconvert_exporter": "python",
   "pygments_lexer": "ipython3",
   "version": "3.11.5"
  }
 },
 "nbformat": 4,
 "nbformat_minor": 2
}
